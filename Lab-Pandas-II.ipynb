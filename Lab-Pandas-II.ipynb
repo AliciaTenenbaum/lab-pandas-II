{
 "cells": [
  {
   "cell_type": "markdown",
   "id": "d7dc2feb",
   "metadata": {},
   "source": [
    "# Carga un dataset de la libreria `pydataset` \n",
    "\n",
    "Puedes elegir la que más te guste! \n",
    "\n",
    "Hint: ten en cuenta que os pediremos que hagais algunas transformaciones usando `apply` y `groupby`! "
   ]
  },
  {
   "cell_type": "code",
   "execution_count": null,
   "id": "6d874175",
   "metadata": {},
   "outputs": [],
   "source": []
  },
  {
   "cell_type": "markdown",
   "id": "ed91f5f9",
   "metadata": {},
   "source": [
    "# Explora el dataset elegido \n",
    "\n",
    "- Cuantas columnas tenemos\n",
    "- Cuantos nulos\n",
    "- Haz una descripción\n",
    "- ¿Puedes homogeneizar el nombre de las columnas?\n",
    "\n",
    "Tómate tu tiempo para entender el dataframe y la información que hay en el. Y escribe brevemente las conclusiones principales de el dataset elegido. \n",
    "\n",
    "**No te olvides de guardar tu nuevo csv limpio**"
   ]
  },
  {
   "cell_type": "code",
   "execution_count": null,
   "id": "46f4a59b",
   "metadata": {},
   "outputs": [],
   "source": []
  },
  {
   "cell_type": "markdown",
   "id": "f492d325",
   "metadata": {},
   "source": [
    "# Crea alguna función y aplícala a tu dataframe usando `apply`"
   ]
  },
  {
   "cell_type": "code",
   "execution_count": null,
   "id": "c5ceebf6",
   "metadata": {},
   "outputs": [],
   "source": []
  },
  {
   "cell_type": "markdown",
   "id": "d994e17d",
   "metadata": {},
   "source": [
    "# Aplica el conocimiento del groupby en tu dataframe y saca algunas conclusiones (practica el *story telling*)\n",
    "\n",
    "**BONUS** Plotea algunas de las conclusiones que hayas podido extraer"
   ]
  },
  {
   "cell_type": "code",
   "execution_count": null,
   "id": "0b31b3fb",
   "metadata": {},
   "outputs": [],
   "source": []
  }
 ],
 "metadata": {
  "kernelspec": {
   "display_name": "ironhack",
   "language": "python",
   "name": "ironhack"
  },
  "language_info": {
   "codemirror_mode": {
    "name": "ipython",
    "version": 3
   },
   "file_extension": ".py",
   "mimetype": "text/x-python",
   "name": "python",
   "nbconvert_exporter": "python",
   "pygments_lexer": "ipython3",
   "version": "3.8.5"
  },
  "toc": {
   "base_numbering": 1,
   "nav_menu": {},
   "number_sections": true,
   "sideBar": true,
   "skip_h1_title": false,
   "title_cell": "Table of Contents",
   "title_sidebar": "Contents",
   "toc_cell": false,
   "toc_position": {},
   "toc_section_display": true,
   "toc_window_display": false
  }
 },
 "nbformat": 4,
 "nbformat_minor": 5
}
